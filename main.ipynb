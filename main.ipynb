{
 "cells": [
  {
   "cell_type": "markdown",
   "metadata": {},
   "source": [
    "# Image Compression \n"
   ]
  },
  {
   "cell_type": "code",
   "execution_count": 1,
   "metadata": {},
   "outputs": [],
   "source": [
    "import csv\n",
    "import numpy as np\n",
    "import matplotlib.pyplot as plt\n",
    "\n",
    "from ProcessData import *"
   ]
  },
  {
   "cell_type": "code",
   "execution_count": 2,
   "metadata": {},
   "outputs": [
    {
     "name": "stdout",
     "output_type": "stream",
     "text": [
      "Size of Training Set：(60000, 785)\n",
      "Size of Testing Set: (10000, 785)\n",
      "训练标签形状: (60000,)\n",
      "训练特征形状: (60000, 784)\n",
      "测试标签形状: (10000,)\n",
      "测试特征形状: (10000, 784)\n"
     ]
    }
   ],
   "source": [
    "# 导入数据\n",
    "train_file = 'mnist_train.csv'\n",
    "test_file = 'mnist_test.csv'\n",
    "\n",
    "with open(train_file, 'r') as f:\n",
    "    train_data_reader = csv.reader(f)\n",
    "    train_data = list(train_data_reader)\n",
    "    train_data_array = np.array(train_data, dtype=float)  # 转换为浮点数类型\n",
    "    \n",
    "with open(test_file, 'r') as f:\n",
    "    test_data_reader = csv.reader(f)\n",
    "    test_data = list(test_data_reader)\n",
    "    test_data_array = np.array(test_data, dtype=float)  # 转换为浮点数类型\n",
    "\n",
    "print(f'Size of Training Set：{np.shape(train_data_array)}')\n",
    "print(f'Size of Testing Set: {np.shape(test_data_array)}')\n",
    "\n",
    "# 分离标签和特征\n",
    "y_train = train_data_array[:, 0]  # 第一列是标签\n",
    "X_train = train_data_array[:, 1:]  # 剩余的列是特征\n",
    "\n",
    "y_test = test_data_array[:, 0]  # 第一列是标签\n",
    "X_test = test_data_array[:, 1:]  # 剩余的列是特征\n",
    "\n",
    "print(f'训练标签形状: {y_train.shape}')\n",
    "print(f'训练特征形状: {X_train.shape}')\n",
    "print(f'测试标签形状: {y_test.shape}')\n",
    "print(f'测试特征形状: {X_test.shape}')"
   ]
  },
  {
   "cell_type": "markdown",
   "metadata": {},
   "source": [
    "## 1.1 Generate Matrix A"
   ]
  },
  {
   "cell_type": "code",
   "execution_count": 3,
   "metadata": {},
   "outputs": [],
   "source": [
    "Matrix_A_25_784 = Generate_Standard_Matrix_A(25, 784)    # 调用, 产生25x25的随机高斯矩阵A，其中每一列已经单位l2norm了\n",
    "Matrix_A_100_784 = Generate_Standard_Matrix_A(100, 784)\n",
    "Matrix_A_200_784 = Generate_Standard_Matrix_A(200, 784)\n",
    "Matrix_A_500_784 = Generate_Standard_Matrix_A(500, 784)"
   ]
  },
  {
   "cell_type": "markdown",
   "metadata": {},
   "source": [
    "## 1.2 Apply Sign Function"
   ]
  },
  {
   "cell_type": "code",
   "execution_count": 5,
   "metadata": {},
   "outputs": [
    {
     "name": "stdout",
     "output_type": "stream",
     "text": [
      "(100,)\n"
     ]
    }
   ],
   "source": [
    "# 对Ax施加sign函数，获得全1或者-1的值\n",
    "sign_25_784 = np.sign(Matrix_A_25_784 @ X_train[0])     # (25, )\n",
    "sign_100_784 = np.sign(Matrix_A_100_784 @ X_train[0])\n",
    "sign_200_784 = np.sign(Matrix_A_200_784 @ X_train[0])\n",
    "sign_500_784 = np.sign(Matrix_A_500_784 @ X_train[0])\n"
   ]
  }
 ],
 "metadata": {
  "kernelspec": {
   "display_name": "py39",
   "language": "python",
   "name": "python3"
  },
  "language_info": {
   "codemirror_mode": {
    "name": "ipython",
    "version": 3
   },
   "file_extension": ".py",
   "mimetype": "text/x-python",
   "name": "python",
   "nbconvert_exporter": "python",
   "pygments_lexer": "ipython3",
   "version": "3.9.13"
  }
 },
 "nbformat": 4,
 "nbformat_minor": 2
}
